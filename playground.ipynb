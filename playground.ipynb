{
 "cells": [
  {
   "cell_type": "code",
   "execution_count": 6,
   "metadata": {},
   "outputs": [],
   "source": [
    "import numpy as np\n",
    "from PIL import Image\n",
    "import os\n",
    "import pandas as pd\n",
    "import csv"
   ]
  },
  {
   "cell_type": "code",
   "execution_count": null,
   "metadata": {},
   "outputs": [],
   "source": [
    "total_files = [x for x in os.listdir(\"/home/jigao/CLIP_witch/poisoning-gradient-matching/poisons/poisons\") if \".npy\" in x]\n",
    "for outer_idx, j in enumerate(total_files):\n",
    "    a = np.load(\"/home/jigao/CLIP_witch/poisoning-gradient-matching/poisons/poisons/\" + j)\n",
    "    for idx, i in enumerate(a):\n",
    "        PIL_image = Image.fromarray(np.uint8(i)).convert('RGB')\n",
    "        PIL_image.save(\"/home/hyang/clip_witcher/CLIP/poisoned_data/100K_exp/{}-{}.png\".format(outer_idx, idx))"
   ]
  },
  {
   "cell_type": "code",
   "execution_count": 17,
   "metadata": {},
   "outputs": [],
   "source": [
    "total_csv = [\"/home/jigao/CLIP_witch/poisoning-gradient-matching/data_csv/\" + x for x in os.listdir(\"/home/jigao/CLIP_witch/poisoning-gradient-matching/data_csv\") if \"selected\" in x]\n",
    "clean_csv = [total_csv[0]] + total_csv[2:]\n",
    "dirty_csv = total_csv[1]\n",
    "\n",
    "\n",
    "# poison_path = os.listdir(\"/home/hyang/clip_witcher/CLIP/poisoned_data/100K_exp\")\n",
    "# for idx, i in enumerate(poisoned_csv):\n",
    "#     poisoned_csv[idx][1] = \"/home/hyang/clip_witcher/CLIP/poisoned_data/100K_exp/\" + poison_path[idx]"
   ]
  },
  {
   "cell_type": "code",
   "execution_count": 19,
   "metadata": {},
   "outputs": [
    {
     "data": {
      "text/plain": [
       "'/home/jigao/CLIP_witch/poisoning-gradient-matching/data_csv/selected_subset1.csv'"
      ]
     },
     "execution_count": 19,
     "metadata": {},
     "output_type": "execute_result"
    }
   ],
   "source": [
    "dirty_csv"
   ]
  },
  {
   "cell_type": "code",
   "execution_count": 20,
   "metadata": {},
   "outputs": [],
   "source": [
    "poisoned_csv = []\n",
    "# for i in dirty_csv:\n",
    "#     print(i)\n",
    "poisoned_csv.append(pd.read_csv(dirty_csv)[['caption', 'path']].values.tolist())\n",
    "poisoned_csv = np.vstack(poisoned_csv)"
   ]
  },
  {
   "cell_type": "code",
   "execution_count": 22,
   "metadata": {},
   "outputs": [],
   "source": [
    "poison_path = os.listdir(\"/home/hyang/clip_witcher/CLIP/poisoned_data/100K_exp\")\n",
    "for idx, i in enumerate(poisoned_csv):\n",
    "    poisoned_csv[idx][1] = \"/home/hyang/clip_witcher/CLIP/poisoned_data/100K_exp/\" + poison_path[idx]"
   ]
  },
  {
   "cell_type": "code",
   "execution_count": 21,
   "metadata": {},
   "outputs": [],
   "source": [
    "with open(\"clean_subset2.csv\", \"w\", newline='') as csv_file:\n",
    "    writer = csv.writer(csv_file, delimiter=',')\n",
    "    writer.writerow([\"caption\", \"path\"])\n",
    "    for i in range(len(poisoned_csv)):\n",
    "        writer.writerow((poisoned_csv[i][0], poisoned_csv[i][1]))"
   ]
  },
  {
   "cell_type": "code",
   "execution_count": 23,
   "metadata": {},
   "outputs": [],
   "source": [
    "with open(\"poisoned_subset2.csv\", \"w\", newline='') as csv_file:\n",
    "    writer = csv.writer(csv_file, delimiter=',')\n",
    "    writer.writerow([\"caption\", \"path\"])\n",
    "    for i in range(len(poisoned_csv)):\n",
    "        writer.writerow((poisoned_csv[i][0], poisoned_csv[i][1]))"
   ]
  },
  {
   "cell_type": "code",
   "execution_count": 4,
   "metadata": {},
   "outputs": [],
   "source": [
    "with open(\"poison_info.csv\", \"w\", newline='') as csv_file:\n",
    "    writer = csv.writer(csv_file, delimiter=',')\n",
    "    writer.writerow([\"caption\", \"path\"])\n",
    "    for i in range(len(poisoned_csv)):\n",
    "        writer.writerow((poisoned_csv[i][0], poisoned_csv[i][1]))"
   ]
  },
  {
   "cell_type": "code",
   "execution_count": 24,
   "metadata": {},
   "outputs": [],
   "source": [
    "clean_csv.append(\"/home/jigao/CLIP_witch/poisoning-gradient-matching/data_csv/clean_subset.csv\")"
   ]
  },
  {
   "cell_type": "code",
   "execution_count": 25,
   "metadata": {},
   "outputs": [],
   "source": [
    "safe_csv = []\n",
    "for i in clean_csv:\n",
    "    safe_csv.append(pd.read_csv(i)[['caption', 'path']].values.tolist())\n",
    "safe_csv = np.vstack(safe_csv)"
   ]
  },
  {
   "cell_type": "code",
   "execution_count": 26,
   "metadata": {},
   "outputs": [
    {
     "data": {
      "text/plain": [
       "99000"
      ]
     },
     "execution_count": 26,
     "metadata": {},
     "output_type": "execute_result"
    }
   ],
   "source": [
    "len(safe_csv)"
   ]
  },
  {
   "cell_type": "code",
   "execution_count": 7,
   "metadata": {},
   "outputs": [],
   "source": [
    "with open(\"clean_info.csv\", \"w\", newline='') as csv_file:\n",
    "    writer = csv.writer(csv_file, delimiter=',')\n",
    "    writer.writerow([\"caption\", \"path\"])\n",
    "    for i in range(len(safe_csv)):\n",
    "        writer.writerow((safe_csv[i][0], safe_csv[i][1]))"
   ]
  },
  {
   "cell_type": "code",
   "execution_count": 12,
   "metadata": {},
   "outputs": [],
   "source": [
    "total = np.vstack((safe_csv,poisoned_csv))"
   ]
  },
  {
   "cell_type": "code",
   "execution_count": 13,
   "metadata": {},
   "outputs": [],
   "source": [
    "with open(\"100K_one_poison_2.csv\", \"w\", newline='') as csv_file:\n",
    "    writer = csv.writer(csv_file, delimiter=',')\n",
    "    writer.writerow([\"caption\", \"path\"])\n",
    "    for i in range(len(total)):\n",
    "        writer.writerow((total[i][0], total[i][1]))"
   ]
  }
 ],
 "metadata": {
  "kernelspec": {
   "display_name": "Python 3",
   "language": "python",
   "name": "python3"
  },
  "language_info": {
   "codemirror_mode": {
    "name": "ipython",
    "version": 3
   },
   "file_extension": ".py",
   "mimetype": "text/x-python",
   "name": "python",
   "nbconvert_exporter": "python",
   "pygments_lexer": "ipython3",
   "version": "3.10.6"
  },
  "orig_nbformat": 4,
  "vscode": {
   "interpreter": {
    "hash": "e0b61b801bee499609bf75262e7f96988907fc8b11da351027b342a461b231a7"
   }
  }
 },
 "nbformat": 4,
 "nbformat_minor": 2
}
