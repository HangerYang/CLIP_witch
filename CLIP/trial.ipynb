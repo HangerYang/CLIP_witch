{
 "cells": [
  {
   "cell_type": "code",
   "execution_count": 3,
   "metadata": {},
   "outputs": [],
   "source": [
    "import pandas as pd\n",
    "import numpy as np\n",
    "import csv\n",
    "import re\n",
    "from tqdm import tqdm"
   ]
  },
  {
   "cell_type": "code",
   "execution_count": 9,
   "metadata": {},
   "outputs": [],
   "source": [
    "check = [\"training/194568_1604124183\",\n",
    "\"training/291861_1881017768\",\n",
    "\"training/530248_935229304\",\n",
    "\"training/722800_1549665606\",\n",
    "\"training/1081938_3142694740\",\n",
    "\"training/1194525_921340984\",\n",
    "\"training/1244871_41621993\",\n",
    "\"training/1296633_2473957678\",\n",
    "\"training/1783609_2620113026\", \n",
    "\"training/2416314_4259351717\", \n",
    "\"training/2852354_909904571\",\n",
    "\"training/2937089_3840145690\"]"
   ]
  },
  {
   "cell_type": "code",
   "execution_count": 10,
   "metadata": {},
   "outputs": [],
   "source": [
    "df1 = pd.read_csv('cc/Train-GCC-training.tsv', sep='\\t', names=[\"caption\",\"url\"])\n",
    "df2 = pd.read_csv('cc/downloaded_training_report.tsv', sep='\\t', names=[\"file\",\"folder\",\"mimetype\",\"size\",\"status\",\"url\"])\n",
    "\n",
    "\n",
    "df2 = df2.dropna(subset=[\"size\"])\n",
    "df2 = df2[df2[\"status\"] == 200]\n",
    "df2 = df2[df2[\"size\"] < 13000000]\n",
    "df2 = df2[df2[\"size\"] > 0]\n",
    "df2 = df2[df2['mimetype'].str.contains('image')]\n",
    "df2 = df2[~df2['file'].isin(check)]\n",
    "\n",
    "df2=df2.drop_duplicates(subset=[\"url\"])\n",
    "df1=df1.drop_duplicates(subset=[\"url\"])\n",
    "\n",
    "df3 = pd.merge(df2, df1, on=\"url\")[[\"caption\", \"file\"]]\n",
    "final_k = df3.values.tolist()\n",
    "with open(\"full_clean_train.csv\", \"w\", newline='') as csv_file:\n",
    "    writer = csv.writer(csv_file, delimiter=',')\n",
    "    writer.writerow([\"caption\", \"file\"])\n",
    "    for i in range(np.shape(final_k)[0]):\n",
    "        writer.writerow((final_k[i][0], \"cc/\"+ final_k[i][1]))"
   ]
  },
  {
   "cell_type": "code",
   "execution_count": 9,
   "metadata": {},
   "outputs": [],
   "source": [
    "df4 = pd.read_csv('cc/Validation-GCC-1.1.0-Validation.tsv', sep='\\t', names=[\"caption\",\"url\"])\n",
    "df5 = pd.read_csv('cc/downloaded_validation_report.tsv', sep='\\t', names=[\"path\",\"folder\", \"format\", \"size\", \"status\", \"url\"])\n",
    "df5 = df5.dropna(subset=[\"size\"])\n",
    "df5 = df5[df5[\"status\"] == 200]\n",
    "df5 = df5[df5[\"size\"] < 13000000]\n",
    "df6 = pd.merge(df4, df5, on=\"url\")[[\"caption\", \"path\", \"format\"]]\n",
    "final_validate_k = df6.values.tolist()\n",
    "final_validate_k = [x for x in final_validate_k if \"image\" in x[2]]\n",
    "with open(\"valid.csv\", \"w\", newline='') as csv_file:\n",
    "    writer = csv.writer(csv_file, delimiter=',')\n",
    "    writer.writerow([\"caption\", \"path\"])\n",
    "    for i in range(len(final_validate_k)):\n",
    "        writer.writerow((final_validate_k[i][0], \"cc/\"+ final_validate_k[i][1]))"
   ]
  }
 ],
 "metadata": {
  "kernelspec": {
   "display_name": "Python 3.10.6 (conda)",
   "language": "python",
   "name": "python3"
  },
  "language_info": {
   "codemirror_mode": {
    "name": "ipython",
    "version": 3
   },
   "file_extension": ".py",
   "mimetype": "text/x-python",
   "name": "python",
   "nbconvert_exporter": "python",
   "pygments_lexer": "ipython3",
   "version": "3.10.6 (main, Oct  7 2022, 20:19:58) [GCC 11.2.0]"
  },
  "orig_nbformat": 4,
  "vscode": {
   "interpreter": {
    "hash": "e0b61b801bee499609bf75262e7f96988907fc8b11da351027b342a461b231a7"
   }
  }
 },
 "nbformat": 4,
 "nbformat_minor": 2
}
